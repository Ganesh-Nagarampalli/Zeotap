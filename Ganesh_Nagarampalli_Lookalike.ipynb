{
  "nbformat": 4,
  "nbformat_minor": 0,
  "metadata": {
    "colab": {
      "provenance": []
    },
    "kernelspec": {
      "name": "python3",
      "display_name": "Python 3"
    },
    "language_info": {
      "name": "python"
    }
  },
  "cells": [
    {
      "cell_type": "code",
      "execution_count": 1,
      "metadata": {
        "colab": {
          "base_uri": "https://localhost:8080/"
        },
        "id": "rtvF_eAuArL0",
        "outputId": "87216e43-fe6d-4d32-be18-cc32b9ce6402"
      },
      "outputs": [
        {
          "output_type": "stream",
          "name": "stdout",
          "text": [
            "  TransactionID CustomerID ProductID      TransactionDate  Quantity  \\\n",
            "0        T00001      C0199      P067  2024-08-25 12:38:23         1   \n",
            "1        T00112      C0146      P067  2024-05-27 22:23:54         1   \n",
            "2        T00166      C0127      P067   2024-04-25 7:38:55         1   \n",
            "3        T00272      C0087      P067  2024-03-26 22:55:37         2   \n",
            "4        T00363      C0070      P067  2024-03-21 15:10:10         3   \n",
            "\n",
            "   TotalValue  Price_x                      ProductName     Category  Price_y  \\\n",
            "0      300.68   300.68  ComfortLiving Bluetooth Speaker  Electronics   300.68   \n",
            "1      300.68   300.68  ComfortLiving Bluetooth Speaker  Electronics   300.68   \n",
            "2      300.68   300.68  ComfortLiving Bluetooth Speaker  Electronics   300.68   \n",
            "3      601.36   300.68  ComfortLiving Bluetooth Speaker  Electronics   300.68   \n",
            "4      902.04   300.68  ComfortLiving Bluetooth Speaker  Electronics   300.68   \n",
            "\n",
            "      CustomerName         Region  SignupDate  \n",
            "0   Andrea Jenkins         Europe  2022-12-03  \n",
            "1  Brittany Harvey           Asia  2024-09-04  \n",
            "2  Kathryn Stevens         Europe  2024-04-04  \n",
            "3  Travis Campbell  South America  2024-04-11  \n",
            "4    Timothy Perez         Europe  2022-03-15  \n"
          ]
        }
      ],
      "source": [
        "import pandas as pd\n",
        "\n",
        "# Load the datasets\n",
        "customers_df = pd.read_csv('Customers.csv')\n",
        "products_df = pd.read_csv('Products.csv')\n",
        "transactions_df = pd.read_csv('Transactions.csv')\n",
        "\n",
        "# Merge the Transactions and Products datasets on ProductID\n",
        "merged_transactions = pd.merge(transactions_df, products_df, on='ProductID', how='left')\n",
        "\n",
        "# Merge the result with Customers dataset on CustomerID\n",
        "merged_data = pd.merge(merged_transactions, customers_df, on='CustomerID', how='left')\n",
        "\n",
        "# Check the first few rows of merged_data to ensure it's correctly merged\n",
        "print(merged_data.head())\n"
      ]
    },
    {
      "cell_type": "code",
      "source": [
        "# Merge the Transactions and Products datasets, with custom suffixes to avoid name conflicts\n",
        "merged_transactions = pd.merge(transactions_df, products_df[['ProductID', 'Price']], on='ProductID', how='left', suffixes=('_transaction', '_product'))\n",
        "\n",
        "# Merge the result with the Customers dataset on CustomerID\n",
        "merged_data = pd.merge(merged_transactions, customers_df, on='CustomerID', how='left')\n",
        "\n",
        "# Check the columns to ensure they are correctly renamed\n",
        "print(merged_data.columns)\n"
      ],
      "metadata": {
        "colab": {
          "base_uri": "https://localhost:8080/"
        },
        "id": "nlv6NYlDBcvu",
        "outputId": "97f7270d-2dce-439d-c472-bf0ca1430ea5"
      },
      "execution_count": 5,
      "outputs": [
        {
          "output_type": "stream",
          "name": "stdout",
          "text": [
            "Index(['TransactionID', 'CustomerID', 'ProductID', 'TransactionDate',\n",
            "       'Quantity', 'TotalValue', 'Price_transaction', 'Price_product',\n",
            "       'CustomerName', 'Region', 'SignupDate'],\n",
            "      dtype='object')\n"
          ]
        }
      ]
    },
    {
      "cell_type": "code",
      "source": [
        "# Aggregate data by CustomerID: total spent, products bought, etc.\n",
        "customer_features = merged_data.groupby('CustomerID').agg(\n",
        "    total_spent=('TotalValue', 'sum'),\n",
        "    product_count=('ProductID', 'nunique'),\n",
        "    avg_price=('Price_product', 'mean'),  # Use 'Price_product' instead of 'Price'\n",
        "    region=('Region', 'first')\n",
        ").reset_index()\n",
        "\n",
        "# Convert SignupDate to a datetime object and calculate the signup duration\n",
        "customers_df['SignupDate'] = pd.to_datetime(customers_df['SignupDate'])\n",
        "customers_df['SignupDuration'] = (pd.to_datetime('today') - customers_df['SignupDate']).dt.days\n",
        "\n",
        "# Merge the features with the demographics\n",
        "customer_features = pd.merge(customer_features, customers_df[['CustomerID', 'SignupDuration']], on='CustomerID')\n",
        "\n",
        "# Check the final customer features dataframe\n",
        "print(customer_features.head())\n"
      ],
      "metadata": {
        "colab": {
          "base_uri": "https://localhost:8080/"
        },
        "id": "b2tkADsHA6-h",
        "outputId": "eee09076-afa5-4376-a9a4-b630d72984e6"
      },
      "execution_count": 6,
      "outputs": [
        {
          "output_type": "stream",
          "name": "stdout",
          "text": [
            "  CustomerID  total_spent  product_count   avg_price         region  \\\n",
            "0      C0001      3354.52              5  278.334000  South America   \n",
            "1      C0002      1862.74              4  208.920000           Asia   \n",
            "2      C0003      2725.38              4  195.707500  South America   \n",
            "3      C0004      5354.88              8  240.636250  South America   \n",
            "4      C0005      2034.24              3  291.603333           Asia   \n",
            "\n",
            "   SignupDuration  \n",
            "0             935  \n",
            "1            1082  \n",
            "2             329  \n",
            "3             844  \n",
            "4             899  \n"
          ]
        }
      ]
    },
    {
      "cell_type": "code",
      "source": [
        "from sklearn.preprocessing import StandardScaler\n",
        "from sklearn.metrics.pairwise import cosine_similarity\n",
        "\n",
        "# Select the columns to use for similarity calculation (exclude CustomerID)\n",
        "features = ['total_spent', 'product_count', 'avg_price', 'SignupDuration']\n",
        "X = customer_features[features]\n",
        "\n",
        "# Standardize the features\n",
        "scaler = StandardScaler()\n",
        "X_scaled = scaler.fit_transform(X)\n",
        "\n",
        "# Compute the cosine similarity between customers\n",
        "cosine_sim = cosine_similarity(X_scaled)\n",
        "\n",
        "# Convert the cosine similarity matrix to a DataFrame for easier handling\n",
        "cosine_sim_df = pd.DataFrame(cosine_sim, index=customer_features['CustomerID'], columns=customer_features['CustomerID'])\n",
        "\n",
        "# Check the similarity scores between the first customer and others\n",
        "print(cosine_sim_df['C0001'].sort_values(ascending=False).head(10))\n"
      ],
      "metadata": {
        "colab": {
          "base_uri": "https://localhost:8080/"
        },
        "id": "BkjraCFgCCrt",
        "outputId": "7c746fd0-a58c-42f2-d19e-129c8845f91e"
      },
      "execution_count": 7,
      "outputs": [
        {
          "output_type": "stream",
          "name": "stdout",
          "text": [
            "CustomerID\n",
            "C0001    1.000000\n",
            "C0152    0.991213\n",
            "C0070    0.948592\n",
            "C0118    0.936542\n",
            "C0011    0.914470\n",
            "C0160    0.901967\n",
            "C0103    0.883715\n",
            "C0086    0.882640\n",
            "C0166    0.880743\n",
            "C0135    0.869706\n",
            "Name: C0001, dtype: float64\n"
          ]
        }
      ]
    },
    {
      "cell_type": "code",
      "source": [
        "# Function to get the top 3 similar customers for a given customer\n",
        "def get_top_similar_customers(customer_id, cosine_sim_df, top_n=3):\n",
        "    similar_customers = cosine_sim_df[customer_id].sort_values(ascending=False)[1:top_n+1]\n",
        "    return similar_customers.index.tolist(), similar_customers.values.tolist()\n",
        "\n",
        "# Create the Lookalike Model for the first 20 customers\n",
        "lookalike_data = []\n",
        "\n",
        "for customer_id in customer_features['CustomerID'][:20]:\n",
        "    similar_customers, scores = get_top_similar_customers(customer_id, cosine_sim_df)\n",
        "    for i in range(len(similar_customers)):\n",
        "        lookalike_data.append({\n",
        "            'CustomerID': customer_id,\n",
        "            'LookalikeCustomerID': similar_customers[i],\n",
        "            'SimilarityScore': scores[i]\n",
        "        })\n",
        "\n",
        "# Convert to DataFrame for better representation\n",
        "lookalike_df = pd.DataFrame(lookalike_data)\n",
        "\n",
        "# Create the Lookalike.csv file\n",
        "lookalike_df.to_csv('Lookalike.csv', index=False)\n",
        "\n",
        "# Display the first few rows of the lookalike recommendations\n",
        "print(lookalike_df.head())\n"
      ],
      "metadata": {
        "colab": {
          "base_uri": "https://localhost:8080/"
        },
        "id": "8xO82gPvCHMg",
        "outputId": "78b474b6-fd9e-4bae-ee6a-d97f50f2b9cd"
      },
      "execution_count": 8,
      "outputs": [
        {
          "output_type": "stream",
          "name": "stdout",
          "text": [
            "  CustomerID LookalikeCustomerID  SimilarityScore\n",
            "0      C0001               C0152         0.991213\n",
            "1      C0001               C0070         0.948592\n",
            "2      C0001               C0118         0.936542\n",
            "3      C0002               C0029         0.996958\n",
            "4      C0002               C0027         0.980796\n"
          ]
        }
      ]
    }
  ]
}